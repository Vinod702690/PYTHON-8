{
 "cells": [
  {
   "cell_type": "code",
   "execution_count": null,
   "id": "c5f540f4-d302-4479-ab2f-7a82ba2eb1aa",
   "metadata": {},
   "outputs": [],
   "source": [
    "Inheritance and Polymorphism in Python"
   ]
  },
  {
   "cell_type": "code",
   "execution_count": 5,
   "id": "7dcf793e-01a6-439b-bcd0-a479d00ad8fd",
   "metadata": {},
   "outputs": [
    {
     "name": "stdout",
     "output_type": "stream",
     "text": [
      "Area of rectangle r1: 26.25\n",
      "Perimeter of rectangle r1: 26.0\n",
      "Color of rectangle r1: black\n",
      "Is rectangle r1 filled ?  False\n",
      "Is rectangle r1 filled ?  True\n",
      "Color of rectangle r1: orange\n",
      "\n",
      "Area of circle c1: 452.39\n",
      "Perimeter of circle c1: 75.40\n",
      "Color of circle c1: black\n",
      "Is circle c1 filled ?  False\n",
      "Is circle c1 filled ?  True\n",
      "Color of circle c1: blue\n"
     ]
    }
   ],
   "source": [
    "import math\n",
    "\n",
    "class Shape:\n",
    "\n",
    "    def __init__(self, color='black', filled=False):\n",
    "        self.__color = color\n",
    "        self.__filled = filled\n",
    "\n",
    "    def get_color(self):\n",
    "        return self.__color\n",
    "\n",
    "    def set_color(self, color):\n",
    "        self.__color = color\n",
    "\n",
    "    def get_filled(self):\n",
    "        return self.__filled\n",
    "\n",
    "    def set_filled(self, filled):\n",
    "        self.__filled = filled\n",
    "\n",
    "\n",
    "class Rectangle(Shape):\n",
    "\n",
    "    def __init__(self, length, breadth):\n",
    "        super().__init__()\n",
    "        self.__length = length\n",
    "        self.__breadth = breadth\n",
    "\n",
    "    def get_length(self):\n",
    "        return self.__length\n",
    "\n",
    "    def set_length(self, length):\n",
    "        self.__length = length\n",
    "\n",
    "    def get_breadth(self):\n",
    "        return self.__breadth\n",
    "\n",
    "    def set_breadth(self, breadth):\n",
    "        self.__breadth = breadth\n",
    "\n",
    "    def get_area(self):\n",
    "        return self.__length * self.__breadth\n",
    "\n",
    "    def get_perimeter(self):\n",
    "        return 2 * (self.__length + self.__breadth)\n",
    "\n",
    "\n",
    "class Circle(Shape):\n",
    "    def __init__(self, radius):\n",
    "        super().__init__()\n",
    "        self.__radius = radius\n",
    "\n",
    "    def get_radius(self):\n",
    "        return self.__radius\n",
    "\n",
    "    def set_radius(self, radius):\n",
    "        self.__radius = radius\n",
    "\n",
    "    def get_area(self):\n",
    "        return math.pi * self.__radius ** 2\n",
    "\n",
    "    def get_perimeter(self):\n",
    "        return 2 * math.pi * self.__radius\n",
    "\n",
    "\n",
    "r1 = Rectangle(10.5, 2.5)\n",
    "\n",
    "print(\"Area of rectangle r1:\", r1.get_area())\n",
    "print(\"Perimeter of rectangle r1:\", r1.get_perimeter())\n",
    "print(\"Color of rectangle r1:\", r1.get_color())\n",
    "print(\"Is rectangle r1 filled ? \", r1.get_filled())\n",
    "r1.set_filled(True)\n",
    "print(\"Is rectangle r1 filled ? \", r1.get_filled())\n",
    "r1.set_color(\"orange\")\n",
    "print(\"Color of rectangle r1:\", r1.get_color())\n",
    "\n",
    "c1 = Circle(12)\n",
    "\n",
    "print(\"\\nArea of circle c1:\", format(c1.get_area(), \"0.2f\"))\n",
    "print(\"Perimeter of circle c1:\", format(c1.get_perimeter(), \"0.2f\"))\n",
    "print(\"Color of circle c1:\", c1.get_color())\n",
    "print(\"Is circle c1 filled ? \", c1.get_filled())\n",
    "c1.set_filled(True)\n",
    "print(\"Is circle c1 filled ? \", c1.get_filled())\n",
    "c1.set_color(\"blue\")\n",
    "print(\"Color of circle c1:\", c1.get_color())"
   ]
  },
  {
   "cell_type": "code",
   "execution_count": 6,
   "id": "83a0d216-0313-44bd-bc6c-9a226c4a61bd",
   "metadata": {},
   "outputs": [
    {
     "name": "stdout",
     "output_type": "stream",
     "text": [
      "explore() method called\n",
      "search() method called\n",
      "discover() method called\n",
      "test() method called\n"
     ]
    }
   ],
   "source": [
    "class A:\n",
    "    def explore(self):\n",
    "        print(\"explore() method called\")\n",
    "\n",
    "class B:\n",
    "    def search(self):\n",
    "        print(\"search() method called\")\n",
    "\n",
    "class C:\n",
    "    def discover(self):\n",
    "        print(\"discover() method called\")\n",
    "\n",
    "class D(A, B, C):\n",
    "    def test(self):\n",
    "        print(\"test() method called\")\n",
    "\n",
    "\n",
    "d_obj = D()\n",
    "d_obj.explore()\n",
    "d_obj.search()\n",
    "d_obj.discover()\n",
    "d_obj.test()"
   ]
  },
  {
   "cell_type": "code",
   "execution_count": 7,
   "id": "2662c959-d524-4e6e-9ffe-c1bba23fc9c7",
   "metadata": {},
   "outputs": [
    {
     "name": "stdout",
     "output_type": "stream",
     "text": [
      "explore() method from class B\n",
      "explore() method from class A\n"
     ]
    }
   ],
   "source": [
    "class A:\n",
    "    def explore(self):\n",
    "        print(\"explore() method from class A\")\n",
    "\n",
    "class B(A):\n",
    "    def explore(self):\n",
    "        print(\"explore() method from class B\")\n",
    "\n",
    "\n",
    "b_obj = B()\n",
    "a_obj = A()\n",
    "\n",
    "b_obj.explore()\n",
    "a_obj.explore()\n",
    "\n"
   ]
  },
  {
   "cell_type": "code",
   "execution_count": 8,
   "id": "4b4bcd70-65a2-4b7e-91b0-479a07f069d5",
   "metadata": {},
   "outputs": [
    {
     "name": "stdout",
     "output_type": "stream",
     "text": [
      "explore() method from class A\n",
      "explore() method from class B\n"
     ]
    }
   ],
   "source": [
    "class A:\n",
    "    def explore(self):\n",
    "        print(\"explore() method from class A\")\n",
    "\n",
    "class B(A):\n",
    "    def explore(self):\n",
    "        super().explore()  # calling the parent class explore() method\n",
    "        print(\"explore() method from class B\")\n",
    "\n",
    "\n",
    "b_obj = B()\n",
    "b_obj.explore()"
   ]
  },
  {
   "cell_type": "code",
   "execution_count": null,
   "id": "dbc3866b-a268-4c3f-845d-358460637658",
   "metadata": {},
   "outputs": [],
   "source": [
    "object - The Base Class "
   ]
  },
  {
   "cell_type": "code",
   "execution_count": 9,
   "id": "b7d5e077-3e5a-41b6-b785-eb75f7454e79",
   "metadata": {},
   "outputs": [
    {
     "name": "stdout",
     "output_type": "stream",
     "text": [
      "<__main__.Jester object at 0x000002172E527FE0>\n"
     ]
    }
   ],
   "source": [
    "class Jester:\n",
    "    def laugh(self):\n",
    "        return print(\"laugh() called\")\n",
    "\n",
    "obj = Jester()\n",
    "print(obj)"
   ]
  },
  {
   "cell_type": "code",
   "execution_count": 10,
   "id": "35f6e6fe-6738-4e7c-8684-cb957bba3cf1",
   "metadata": {},
   "outputs": [
    {
     "name": "stdout",
     "output_type": "stream",
     "text": [
      "A more helpful description\n"
     ]
    }
   ],
   "source": [
    "class Jester:\n",
    "    def laugh(self):\n",
    "        return \"laugh() called\"\n",
    "\n",
    "    def __str__(self):\n",
    "        return \"A more helpful description\"\n",
    "\n",
    "obj = Jester()\n",
    "print(obj)"
   ]
  },
  {
   "cell_type": "code",
   "execution_count": null,
   "id": "e8a06009-8237-494b-a60a-625ffdd88586",
   "metadata": {},
   "outputs": [],
   "source": []
  }
 ],
 "metadata": {
  "kernelspec": {
   "display_name": "Python 3 (ipykernel)",
   "language": "python",
   "name": "python3"
  },
  "language_info": {
   "codemirror_mode": {
    "name": "ipython",
    "version": 3
   },
   "file_extension": ".py",
   "mimetype": "text/x-python",
   "name": "python",
   "nbconvert_exporter": "python",
   "pygments_lexer": "ipython3",
   "version": "3.12.3"
  }
 },
 "nbformat": 4,
 "nbformat_minor": 5
}
